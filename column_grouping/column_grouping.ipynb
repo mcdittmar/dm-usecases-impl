{
 "cells": [
  {
   "cell_type": "code",
   "execution_count": 1,
   "metadata": {},
   "outputs": [],
   "source": [
    "import sys\n",
    "import os\n",
    "from rama.reader import Reader\n",
    "from rama.reader.votable import Votable\n",
    "from rama.models.mango import Source, Parameter\n",
    "\n",
    "infile = \"./output/vizier_grouped_col_annotated.vot\""
   ]
  },
  {
   "cell_type": "markdown",
   "metadata": {},
   "source": [
    "## Load Annotated VOTable"
   ]
  },
  {
   "cell_type": "code",
   "execution_count": 2,
   "metadata": {},
   "outputs": [],
   "source": [
    "doc = Reader( Votable(infile) )"
   ]
  },
  {
   "cell_type": "markdown",
   "metadata": {},
   "source": [
    "## Extract/Find Source instances\n",
    "\n",
    "* AstroPy QTable drops the Mask for Quantity type columns (with units); and produces a Warning.\n",
    "* The rama code will attempt to auto-convert the Radial Velocity 'Point' to an astropy:SkyCoord instance.  The conversion logic is pretty basic at this point, and targeted to spatial positions (lon,lat).  Without these axes, the conversion fails and the original Point is returned."
   ]
  },
  {
   "cell_type": "code",
   "execution_count": 3,
   "metadata": {},
   "outputs": [
    {
     "name": "stderr",
     "output_type": "stream",
     "text": [
      "/Users/sao/opt/anaconda3/envs/vodml/lib/python3.6/site-packages/astropy/table/table.py:3486: UserWarning: dropping mask in Quantity column 'pm': masked Quantity not supported\n",
      "  \"masked Quantity not supported\".format(col.info.name))\n",
      "Can't apply adapter: Must supply positional data (lon,lat).\n"
     ]
    }
   ],
   "source": [
    "catalog = doc.find_instances(Source)[0]"
   ]
  },
  {
   "cell_type": "markdown",
   "metadata": {},
   "source": [
    "### Display Associated Parameters\n",
    "* The goal of this exercise is to demonstrate that the MANGO model Associated Parameter structure can be properly annotated.  Here, we browse the content and provide a summary of the discovered metadata."
   ]
  },
  {
   "cell_type": "code",
   "execution_count": 5,
   "metadata": {},
   "outputs": [
    {
     "name": "stdout",
     "output_type": "stream",
     "text": [
      "* Source:\n",
      "    * Parameter: ucd='pos.eq \n",
      "\n",
      "        * no Associated Parameters\n",
      "\n",
      "    * Parameter: ucd='spect.dopplerVeloc \n",
      "\n",
      "        * Associated Parameter: ucd='meta.code.qual'\n",
      "\n",
      "        * Associated Parameter: ucd='meta.number'\n",
      "\n",
      "        * Associated Parameter: ucd='meta.ref'\n",
      "\n",
      "    * Parameter: ucd='meta.code.qual \n",
      "\n",
      "        * no Associated Parameters\n",
      "\n",
      "    * Parameter: ucd='meta.number \n",
      "\n",
      "        * no Associated Parameters\n",
      "\n",
      "    * Parameter: ucd='meta.ref \n",
      "\n",
      "        * no Associated Parameters\n",
      "\n"
     ]
    }
   ],
   "source": [
    "print(\"* Source:\")\n",
    "for param in ( catalog.parameter_dock ):\n",
    "    print(\"    * Parameter: ucd='{} \\n\".format(param.ucd))\n",
    "    if param.associated_parameters is None:\n",
    "        print(\"        * no Associated Parameters\\n\")\n",
    "    else:\n",
    "        for item in ( param.associated_parameters ):\n",
    "            inst = item.referenced_instance\n",
    "            print(\"        * Associated Parameter: ucd='{}'\\n\".format(inst.ucd))\n",
    "\n",
    "            "
   ]
  },
  {
   "cell_type": "code",
   "execution_count": null,
   "metadata": {},
   "outputs": [],
   "source": []
  }
 ],
 "metadata": {
  "kernelspec": {
   "display_name": "Python (vodml)",
   "language": "python",
   "name": "vodml"
  },
  "language_info": {
   "codemirror_mode": {
    "name": "ipython",
    "version": 3
   },
   "file_extension": ".py",
   "mimetype": "text/x-python",
   "name": "python",
   "nbconvert_exporter": "python",
   "pygments_lexer": "ipython3",
   "version": "3.6.10"
  }
 },
 "nbformat": 4,
 "nbformat_minor": 4
}
