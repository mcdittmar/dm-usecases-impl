{
 "cells": [
  {
   "cell_type": "markdown",
   "metadata": {},
   "source": [
    "# Model Instance Summary:"
   ]
  },
  {
   "cell_type": "code",
   "execution_count": 3,
   "metadata": {},
   "outputs": [],
   "source": [
    "import sys\n",
    "import os\n",
    "import numpy as np\n",
    "from rama.reader import Reader\n",
    "from rama.reader.votable import Votable\n",
    "\n",
    "from rama.models.mango import Source, WebEndpoint\n",
    "from rama.models.measurements import Position\n",
    "\n",
    "sys.path.append('../utils')\n",
    "from printutils import *\n",
    "\n",
    "infile = \"./data/4xmm_lite.avot\"\n"
   ]
  },
  {
   "cell_type": "markdown",
   "metadata": {},
   "source": [
    "### Find Source-s"
   ]
  },
  {
   "cell_type": "code",
   "execution_count": 4,
   "metadata": {},
   "outputs": [],
   "source": [
    "doc = Reader( Votable(infile))\n",
    "catalog = doc.find_instances(Source)[0]"
   ]
  },
  {
   "cell_type": "markdown",
   "metadata": {},
   "source": [
    "### High Level Content Summary"
   ]
  },
  {
   "cell_type": "code",
   "execution_count": 6,
   "metadata": {
    "scrolled": true
   },
   "outputs": [
    {
     "name": "stdout",
     "output_type": "stream",
     "text": [
      "Source List\n",
      "  o Type: rama.models.mango.Source\n",
      "  o Number of records: 5\n",
      "  o Number of unique Sources: 5\n",
      "  o Associated Parameters: 1\n",
      "  o Associated Data: 3\n"
     ]
    }
   ],
   "source": [
    "print(\"Source List\")\n",
    "print(\"  o Type: %s\"%(get_type_name( catalog )))\n",
    "print(\"  o Number of records: %d\"%( len(catalog.identifier) ))\n",
    "print(\"  o Number of unique Sources: %d\"%( len(set(catalog.identifier)) ))\n",
    "print(\"  o Associated Parameters: %s\"%( \"none\" if catalog.parameter_dock is None else str(len(catalog.parameter_dock))))\n",
    "print(\"  o Associated Data: %s\"%( \"none\" if catalog.associated_data_dock is None else str(len(catalog.associated_data_dock))))\n"
   ]
  },
  {
   "cell_type": "markdown",
   "metadata": {},
   "source": [
    "### Source Record Details\n",
    "By default, the rama package generates compact instances.. with array Values rather than multiple Instances.  \n",
    "We 'unroll' the instance to create individual Source instances. "
   ]
  },
  {
   "cell_type": "code",
   "execution_count": 7,
   "metadata": {},
   "outputs": [
    {
     "name": "stdout",
     "output_type": "stream",
     "text": [
      "rama.models.mango.Source:\n",
      "  o identifier: 581245887037857579\n",
      "  o Associated Parameters:\n",
      "     1.rama.models.mango.Parameter:\n",
      "         o semantic: None\n",
      "         o ucd: pos\n",
      "         o measure: Position: ( 340.910551 [deg], -17.071667 [deg] ) +/- 4.105e-04 [ICRS]\n",
      "  o Associated Data:\n",
      "     1.rama.models.mango.WebEndpoint:\n",
      "         o semantic: spectrum.raw\n",
      "         o datatype: None\n",
      "         o contentType: application/fits\n",
      "         o url: http://spectrum/581245887037857579/MOS1\n",
      "     2.rama.models.mango.WebEndpoint:\n",
      "         o semantic: spectrum.raw\n",
      "         o datatype: None\n",
      "         o contentType: application/fits\n",
      "         o url: http://spectrum/581245887037857579/MO2\n",
      "     3.rama.models.mango.WebEndpoint:\n",
      "         o semantic: spectrum.raw\n",
      "         o datatype: None\n",
      "         o contentType: application/fits\n",
      "         o url: http://spectrum/581245887037857579/PN\n",
      "\n",
      "rama.models.mango.Source:\n",
      "  o identifier: 581245887037857578\n",
      "  o Associated Parameters:\n",
      "     1.rama.models.mango.Parameter:\n",
      "         o semantic: None\n",
      "         o ucd: pos\n",
      "         o measure: Position: (  52.616760 [deg], -27.720584 [deg] ) +/- 4.309e-04 [ICRS]\n",
      "  o Associated Data:\n",
      "     0. none\n",
      "\n",
      "rama.models.mango.Source:\n",
      "  o identifier: 581245887037857577\n",
      "  o Associated Parameters:\n",
      "     1.rama.models.mango.Parameter:\n",
      "         o semantic: None\n",
      "         o ucd: pos\n",
      "         o measure: Position: ( 183.267881 [deg],  27.708168 [deg] ) +/- 3.517e-04 [ICRS]\n",
      "  o Associated Data:\n",
      "     0. none\n",
      "\n",
      "rama.models.mango.Source:\n",
      "  o identifier: 581245887037857576\n",
      "  o Associated Parameters:\n",
      "     1.rama.models.mango.Parameter:\n",
      "         o semantic: None\n",
      "         o ucd: pos\n",
      "         o measure: Position: ( 126.308367 [deg], -77.837500 [deg] ) +/- 2.208e-04 [ICRS]\n",
      "  o Associated Data:\n",
      "     0. none\n",
      "\n",
      "rama.models.mango.Source:\n",
      "  o identifier: 581245887037857575\n",
      "  o Associated Parameters:\n",
      "     1.rama.models.mango.Parameter:\n",
      "         o semantic: None\n",
      "         o ucd: pos\n",
      "         o measure: Position: ( 107.506608 [deg], -39.135986 [deg] ) +/- 3.702e-04 [ICRS]\n",
      "  o Associated Data:\n",
      "     0. none\n",
      "\n"
     ]
    }
   ],
   "source": [
    "for source in catalog.unroll():\n",
    "    print( source_toString( source ))"
   ]
  }
 ],
 "metadata": {
  "kernelspec": {
   "display_name": "Python (vodml)",
   "language": "python",
   "name": "vodml"
  },
  "language_info": {
   "codemirror_mode": {
    "name": "ipython",
    "version": 3
   },
   "file_extension": ".py",
   "mimetype": "text/x-python",
   "name": "python",
   "nbconvert_exporter": "python",
   "pygments_lexer": "ipython3",
   "version": "3.6.10"
  }
 },
 "nbformat": 4,
 "nbformat_minor": 4
}
