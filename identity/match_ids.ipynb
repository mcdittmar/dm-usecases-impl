{
 "cells": [
  {
   "cell_type": "markdown",
   "metadata": {},
   "source": [
    "# Model Instance Summary"
   ]
  },
  {
   "cell_type": "code",
   "execution_count": 2,
   "metadata": {},
   "outputs": [],
   "source": [
    "import sys\n",
    "import os\n",
    "from rama.reader import Reader\n",
    "from rama.reader.votable import Votable\n",
    "\n",
    "from rama.models.mango import Source\n",
    "\n",
    "infile = \"./data/simbad_idonly.avot\"\n"
   ]
  },
  {
   "cell_type": "markdown",
   "metadata": {},
   "source": [
    "### Find Source-s\n",
    "\n",
    "NOTE: This produces several UserWarning-s from QTable processing the VOTable.  These are benign.\n"
   ]
  },
  {
   "cell_type": "code",
   "execution_count": 4,
   "metadata": {},
   "outputs": [
    {
     "name": "stderr",
     "output_type": "stream",
     "text": [
      "/Users/sao/opt/anaconda3/envs/vodml/lib/python3.6/site-packages/astropy/table/table.py:3486: UserWarning: dropping mask in Quantity column 'coo_err_angle': masked Quantity not supported\n",
      "  \"masked Quantity not supported\".format(col.info.name))\n",
      "/Users/sao/opt/anaconda3/envs/vodml/lib/python3.6/site-packages/astropy/table/table.py:3486: UserWarning: dropping mask in Quantity column 'coo_err_maj': masked Quantity not supported\n",
      "  \"masked Quantity not supported\".format(col.info.name))\n",
      "/Users/sao/opt/anaconda3/envs/vodml/lib/python3.6/site-packages/astropy/table/table.py:3486: UserWarning: dropping mask in Quantity column 'coo_err_min': masked Quantity not supported\n",
      "  \"masked Quantity not supported\".format(col.info.name))\n",
      "/Users/sao/opt/anaconda3/envs/vodml/lib/python3.6/site-packages/astropy/table/table.py:3486: UserWarning: dropping mask in Quantity column 'galdim_angle': masked Quantity not supported\n",
      "  \"masked Quantity not supported\".format(col.info.name))\n",
      "/Users/sao/opt/anaconda3/envs/vodml/lib/python3.6/site-packages/astropy/table/table.py:3486: UserWarning: dropping mask in Quantity column 'galdim_majaxis': masked Quantity not supported\n",
      "  \"masked Quantity not supported\".format(col.info.name))\n",
      "/Users/sao/opt/anaconda3/envs/vodml/lib/python3.6/site-packages/astropy/table/table.py:3486: UserWarning: dropping mask in Quantity column 'galdim_minaxis': masked Quantity not supported\n",
      "  \"masked Quantity not supported\".format(col.info.name))\n",
      "/Users/sao/opt/anaconda3/envs/vodml/lib/python3.6/site-packages/astropy/table/table.py:3486: UserWarning: dropping mask in Quantity column 'plx_err': masked Quantity not supported\n",
      "  \"masked Quantity not supported\".format(col.info.name))\n",
      "/Users/sao/opt/anaconda3/envs/vodml/lib/python3.6/site-packages/astropy/table/table.py:3486: UserWarning: dropping mask in Quantity column 'plx_value': masked Quantity not supported\n",
      "  \"masked Quantity not supported\".format(col.info.name))\n",
      "/Users/sao/opt/anaconda3/envs/vodml/lib/python3.6/site-packages/astropy/table/table.py:3486: UserWarning: dropping mask in Quantity column 'pm_err_angle': masked Quantity not supported\n",
      "  \"masked Quantity not supported\".format(col.info.name))\n",
      "/Users/sao/opt/anaconda3/envs/vodml/lib/python3.6/site-packages/astropy/table/table.py:3486: UserWarning: dropping mask in Quantity column 'pm_err_maj': masked Quantity not supported\n",
      "  \"masked Quantity not supported\".format(col.info.name))\n",
      "/Users/sao/opt/anaconda3/envs/vodml/lib/python3.6/site-packages/astropy/table/table.py:3486: UserWarning: dropping mask in Quantity column 'pm_err_min': masked Quantity not supported\n",
      "  \"masked Quantity not supported\".format(col.info.name))\n",
      "/Users/sao/opt/anaconda3/envs/vodml/lib/python3.6/site-packages/astropy/table/table.py:3486: UserWarning: dropping mask in Quantity column 'pmdec': masked Quantity not supported\n",
      "  \"masked Quantity not supported\".format(col.info.name))\n",
      "/Users/sao/opt/anaconda3/envs/vodml/lib/python3.6/site-packages/astropy/table/table.py:3486: UserWarning: dropping mask in Quantity column 'pmra': masked Quantity not supported\n",
      "  \"masked Quantity not supported\".format(col.info.name))\n",
      "/Users/sao/opt/anaconda3/envs/vodml/lib/python3.6/site-packages/astropy/table/table.py:3486: UserWarning: dropping mask in Quantity column 'rvz_err': masked Quantity not supported\n",
      "  \"masked Quantity not supported\".format(col.info.name))\n",
      "/Users/sao/opt/anaconda3/envs/vodml/lib/python3.6/site-packages/astropy/table/table.py:3486: UserWarning: dropping mask in Quantity column 'rvz_radvel': masked Quantity not supported\n",
      "  \"masked Quantity not supported\".format(col.info.name))\n"
     ]
    }
   ],
   "source": [
    "doc = Reader( Votable(infile) )\n",
    "catalog = doc.find_instances(Source)[0]"
   ]
  },
  {
   "cell_type": "markdown",
   "metadata": {},
   "source": [
    "### Extract Source Records\n",
    "Scan Source records for instances matching the provided ID."
   ]
  },
  {
   "cell_type": "code",
   "execution_count": 6,
   "metadata": {},
   "outputs": [
    {
     "name": "stdout",
     "output_type": "stream",
     "text": [
      " Match Results\n",
      "  o Matched Source records with id=11237005: 1 \n",
      "  o Matched Source records with id=99999999: 0 \n",
      "  o Matched Source records with id=11173790: 1 \n"
     ]
    }
   ],
   "source": [
    "print(\" Match Results\")\n",
    "for srcid in [ 11237005, 99999999, 11173790 ]:\n",
    "    matches = [rec for rec in catalog.unroll() if rec.identifier == srcid]\n",
    "    print(\"  o Matched Source records with id={}: {} \".format(str(srcid), len(matches)) )\n"
   ]
  }
 ],
 "metadata": {
  "kernelspec": {
   "display_name": "Python (vodml)",
   "language": "python",
   "name": "vodml"
  },
  "language_info": {
   "codemirror_mode": {
    "name": "ipython",
    "version": 3
   },
   "file_extension": ".py",
   "mimetype": "text/x-python",
   "name": "python",
   "nbconvert_exporter": "python",
   "pygments_lexer": "ipython3",
   "version": "3.6.10"
  }
 },
 "nbformat": 4,
 "nbformat_minor": 4
}
