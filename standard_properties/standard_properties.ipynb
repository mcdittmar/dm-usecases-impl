{
 "cells": [
  {
   "cell_type": "markdown",
   "metadata": {},
   "source": [
    "## Model Instance Summary:"
   ]
  },
  {
   "cell_type": "code",
   "execution_count": 1,
   "metadata": {},
   "outputs": [],
   "source": [
    "import sys\n",
    "import os\n",
    "import numpy as np\n",
    "from rama.reader import Reader\n",
    "from rama.reader.votable import Votable\n",
    "\n",
    "from rama.models.mango import Source, LonLatSkyPosition, Photometry, HardnessRatio, Flag\n",
    "from rama.models.measurements import Time, GenericMeasure\n",
    "\n",
    "sys.path.append('../utils')\n",
    "from printutils import *\n",
    "\n",
    "# Select file to process:\n",
    "#4XMMFILE = \"./data/4xmm_detections.avot\"\n",
    "#GAIAFILE = \"./data/vizier_gaiadr2.avot\"\n",
    "#CSC2FILE = \"./data/csc2_example.avot\""
   ]
  },
  {
   "cell_type": "code",
   "execution_count": 2,
   "metadata": {},
   "outputs": [],
   "source": [
    "doc = Reader( Votable(infile) )\n",
    "catalog = doc.find_instances(Source)[0]"
   ]
  },
  {
   "cell_type": "markdown",
   "metadata": {},
   "source": [
    "### High Level Content Summary"
   ]
  },
  {
   "cell_type": "code",
   "execution_count": 3,
   "metadata": {},
   "outputs": [
    {
     "name": "stdout",
     "output_type": "stream",
     "text": [
      "o Number of records: 5\n",
      "o Number of unique Sources: 5\n"
     ]
    }
   ],
   "source": [
    "print(\"o Number of records: %d\"%( len(catalog.identifier) ))\n",
    "print(\"o Number of unique Sources: %d\"%( len(set(catalog.identifier)) ) )"
   ]
  },
  {
   "cell_type": "markdown",
   "metadata": {},
   "source": [
    "### Detail Level Content Summary"
   ]
  },
  {
   "cell_type": "markdown",
   "metadata": {},
   "source": [
    "By default, the rama package generates compact instances.. with array Values rather than multiple Instances.\n",
    "We 'unroll' the instance to access individual Source instances.\n",
    "\n",
    "Note: The Mango model Parameter contains a 'ucd' attribute which essentially identifies the type of the contained Measure.  This is the job of the measure itself, either by the specialized type (eg: Position), or in the case of GenericMeasure through its 'ucd' attribute (added post RFC2"
   ]
  },
  {
   "cell_type": "code",
   "execution_count": 4,
   "metadata": {},
   "outputs": [
    {
     "name": "stdout",
     "output_type": "stream",
     "text": [
      "o Source number: 3\n",
      "o Identifier: 581245887037857577\n",
      "o Property: semantic=position, ucd=pos\n",
      "    o Position: ( 183.267881 [deg],  27.708168 [deg] ) ellipse(major:3.517e-04, minor:3.517e-04, angle: 0.000) [ICRS]\n",
      "o Property: semantic=flux, ucd=phot.flux\n",
      "    o Photometry: (1.101e-16 [erg/cm**2/s]) +/- 2.278e-16 [band=XMM_EB1]\n",
      "o Property: semantic=flux, ucd=phot.flux\n",
      "    o Photometry: (3.290e-16 [erg/cm**2/s]) +/- 2.624e-16 [band=XMM_EB2]\n",
      "o Property: semantic=flux, ucd=phot.flux\n",
      "    o Photometry: (3.248e-15 [erg/cm**2/s]) +/- 8.170e-16 [band=XMM_EB3]\n",
      "o Property: semantic=flux, ucd=phot.flux\n",
      "    o Photometry: (2.026e-15 [erg/cm**2/s]) +/- 1.380e-15 [band=XMM_EB4]\n",
      "o Property: semantic=flux, ucd=phot.flux\n",
      "    o Photometry: (2.867e-14 [erg/cm**2/s]) +/- 1.529e-14 [band=XMM_EB5]\n",
      "o Property: semantic=hardness_ratio, ucd=phot.color\n",
      "    o HardnessRatio:  0.519 +/- 2.045e-01 [band_low: XMM_EB1, band_high: XMM_EB2]\n",
      "o Property: semantic=hardness_ratio, ucd=phot.color\n",
      "    o HardnessRatio:  0.783 +/- 1.049e-01 [band_low: XMM_EB2, band_high: XMM_EB3]\n",
      "o Property: semantic=hardness_ratio, ucd=phot.color\n",
      "    o HardnessRatio: -0.664 +/- 2.006e-01 [band_low: XMM_EB3, band_high: XMM_EB4]\n",
      "o Property: semantic=hardness_ratio, ucd=phot.color\n",
      "    o HardnessRatio:  0.583 +/- 2.790e-01 [band_low: XMM_EB4, band_high: XMM_EB5]\n",
      "o Property: semantic=obs.exposure, ucd=time.duration\n",
      "    o GenericMeasure: (    47325.9 [s] )\n",
      "o Property: semantic=obs.start, ucd=time\n",
      "    o Time: 58300.444884 [TCB]\n",
      "o Property: semantic=quality, ucd=meta.code.qual\n",
      "    o Flag: 0 [good]\n"
     ]
    }
   ],
   "source": [
    "srcno = 2\n",
    "source = catalog.unroll()[srcno]\n",
    "\n",
    "print(\"o Source number: {}\".format( srcno+1 ) )\n",
    "print(\"o Identifier: {}\".format( source.identifier ))\n",
    "\n",
    "for prop in ( source.parameter_dock ):\n",
    "    print(\"o Property: semantic={}, ucd={}\".format(prop.semantic.label, prop.ucd))\n",
    "    print(\"    o {}\".format( measure_toString( prop.measure )))"
   ]
  },
  {
   "cell_type": "code",
   "execution_count": null,
   "metadata": {},
   "outputs": [],
   "source": []
  }
 ],
 "metadata": {
  "kernelspec": {
   "display_name": "Python (vodml)",
   "language": "python",
   "name": "vodml"
  },
  "language_info": {
   "codemirror_mode": {
    "name": "ipython",
    "version": 3
   },
   "file_extension": ".py",
   "mimetype": "text/x-python",
   "name": "python",
   "nbconvert_exporter": "python",
   "pygments_lexer": "ipython3",
   "version": "3.6.10"
  }
 },
 "nbformat": 4,
 "nbformat_minor": 4
}
